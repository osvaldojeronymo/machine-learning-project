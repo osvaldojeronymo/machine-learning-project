{
  "cells": [
    {
      "cell_type": "markdown",
      "metadata": {},
      "source": [
        "# 03 Train Compare Tabular\n",
        "\n",
        "Este notebook \u00e9 um **esqueleto** tempor\u00e1rio.\n",
        "Ele foi criado apenas para permitir a renderiza\u00e7\u00e3o do projeto no Quarto."
      ]
    },
    {
      "cell_type": "code",
      "execution_count": null,
      "metadata": {},
      "outputs": [],
      "source": [
        "print('Esqueleto do notebook 03 Train Compare Tabular carregado com sucesso.')"
      ]
    }
  ],
  "metadata": {
    "kernelspec": {
      "display_name": "Python 3",
      "language": "python",
      "name": "python3"
    },
    "language_info": {
      "name": "python",
      "version": "3.10"
    }
  },
  "nbformat": 4,
  "nbformat_minor": 5
}